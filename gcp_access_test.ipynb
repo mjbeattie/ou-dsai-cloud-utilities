{
 "cells": [
  {
   "cell_type": "code",
   "execution_count": 2,
   "metadata": {},
   "outputs": [
    {
     "name": "stdout",
     "output_type": "stream",
     "text": [
      "Contents of gs://mmm-spring2025 (Project: ou-dsa5900):\n",
      "  bronze/\n",
      "    - Adobe Cleaned.csv (Size: 25786 bytes)\n",
      "    - Google Cleaned.csv (Size: 3277278 bytes)\n",
      "    - Meta Cleaned.csv (Size: 1738839 bytes)\n",
      "  raw-files/\n",
      "    - Adobe Data Jan 23 - Jan 25.xlsx (Size: 71681 bytes)\n",
      "    - Google Data Jan 23 - Jan 25.xlsx (Size: 1626890 bytes)\n",
      "    - Meta Data Jan 23 - Jan 25.xlsx (Size: 1255659 bytes)\n"
     ]
    }
   ],
   "source": [
    "from google.cloud import storage\n",
    "\n",
    "def list_blobs_and_dirs(project_id, bucket_name, prefix=None):\n",
    "    \"\"\"Lists blobs and simulates directories in a Google Cloud Storage bucket within a specific project.\"\"\"\n",
    "\n",
    "    storage_client = storage.Client(project=project_id)  # Specify the project\n",
    "    bucket = storage_client.bucket(bucket_name)\n",
    "\n",
    "    try:\n",
    "        blobs = bucket.list_blobs(prefix=prefix)\n",
    "\n",
    "        if prefix:\n",
    "            print(f\"Contents of gs://{bucket_name}/{prefix} (Project: {project_id}):\")\n",
    "        else:\n",
    "            print(f\"Contents of gs://{bucket_name} (Project: {project_id}):\")\n",
    "\n",
    "        printed_dirs = set()\n",
    "\n",
    "        for blob in blobs:\n",
    "            parts = blob.name.split(\"/\")\n",
    "\n",
    "            if len(parts) > 1:\n",
    "                dir_name = \"/\".join(parts[:-1]) + \"/\"\n",
    "\n",
    "                if dir_name not in printed_dirs:\n",
    "                    print(f\"  {dir_name}\")\n",
    "                    printed_dirs.add(dir_name)\n",
    "\n",
    "                if not blob.name.endswith(\"/\"):\n",
    "                    print(f\"    - {parts[-1]} (Size: {blob.size} bytes)\")\n",
    "            else:\n",
    "                if not blob.name.endswith(\"/\"):\n",
    "                    print(f\"- {blob.name} (Size: {blob.size} bytes)\")\n",
    "\n",
    "    except Exception as e:\n",
    "        print(f\"An error occurred: {e}\")\n",
    "\n",
    "\n",
    "# Example usage: Replace with your project ID and bucket name\n",
    "project_id = \"ou-dsa5900\"  # Add your project ID here\n",
    "bucket_name = \"mmm-spring2025\"\n",
    "\n",
    "# List everything\n",
    "list_blobs_and_dirs(project_id, bucket_name)\n",
    "\n",
    "# List a specific \"directory\" (prefix)\n",
    "# list_blobs_and_dirs(project_id, bucket_name, \"my-folder/\")  # Replace with your prefix"
   ]
  },
  {
   "cell_type": "markdown",
   "metadata": {},
   "source": [
    "__BigQuery Access with User ID__\n",
    "This next block tries to access public BigQuery datasets with the Google user ID as credentials instead of the service account.\n",
    "\n",
    "Start by logging in as the Google user from a Terminal session using:\n",
    "\n",
    "gcloud auth application-default login\n",
    "\n",
    "gcloud config set project PROJECT-ID\n",
    "\n",
    "Replace PROJECT-ID with the name of your project, such as ou-dsa5900.  This will log the user of the workstation in using their Google user ID.  It will then store authentication credentials locally (e.g., in ~/.config/gcloud/application_default_credentials.json).\n"
   ]
  },
  {
   "cell_type": "code",
   "execution_count": 3,
   "metadata": {},
   "outputs": [
    {
     "name": "stdout",
     "output_type": "stream",
     "text": [
      "Row(('26599763', 'Pay-as-you-ride', '21707', 'electric', datetime.datetime(2022, 5, 6, 14, 19, 39, tzinfo=datetime.timezone.utc), 4051, '10th/Red River', '4051', '10th/Red River', 195), {'trip_id': 0, 'subscriber_type': 1, 'bike_id': 2, 'bike_type': 3, 'start_time': 4, 'start_station_id': 5, 'start_station_name': 6, 'end_station_id': 7, 'end_station_name': 8, 'duration_minutes': 9})\n",
      "Row(('26742903', '3-Day Weekender', '17460', 'electric', datetime.datetime(2022, 5, 23, 16, 24, 46, tzinfo=datetime.timezone.utc), 4051, '10th/Red River', '4051', '10th/Red River', 2), {'trip_id': 0, 'subscriber_type': 1, 'bike_id': 2, 'bike_type': 3, 'start_time': 4, 'start_station_id': 5, 'start_station_name': 6, 'end_station_id': 7, 'end_station_name': 8, 'duration_minutes': 9})\n",
      "Row(('26599923', 'Pay-as-you-ride', '19453', 'electric', datetime.datetime(2022, 5, 6, 14, 37, 41, tzinfo=datetime.timezone.utc), 4051, '10th/Red River', '4051', '10th/Red River', 178), {'trip_id': 0, 'subscriber_type': 1, 'bike_id': 2, 'bike_type': 3, 'start_time': 4, 'start_station_id': 5, 'start_station_name': 6, 'end_station_id': 7, 'end_station_name': 8, 'duration_minutes': 9})\n",
      "Row(('26701683', 'Local31', '21772', 'electric', datetime.datetime(2022, 5, 17, 22, 50, 29, tzinfo=datetime.timezone.utc), 4051, '10th/Red River', '4051', '10th/Red River', 4), {'trip_id': 0, 'subscriber_type': 1, 'bike_id': 2, 'bike_type': 3, 'start_time': 4, 'start_station_id': 5, 'start_station_name': 6, 'end_station_id': 7, 'end_station_name': 8, 'duration_minutes': 9})\n",
      "Row(('26788653', 'Pay-as-you-ride', '21740', 'electric', datetime.datetime(2022, 5, 29, 19, 41, 40, tzinfo=datetime.timezone.utc), 4051, '10th/Red River', '4051', '10th/Red River', 31), {'trip_id': 0, 'subscriber_type': 1, 'bike_id': 2, 'bike_type': 3, 'start_time': 4, 'start_station_id': 5, 'start_station_name': 6, 'end_station_id': 7, 'end_station_name': 8, 'duration_minutes': 9})\n",
      "Row(('26742937', '3-Day Weekender', '17460', 'electric', datetime.datetime(2022, 5, 23, 16, 28, 34, tzinfo=datetime.timezone.utc), 4051, '10th/Red River', '4051', '10th/Red River', 35), {'trip_id': 0, 'subscriber_type': 1, 'bike_id': 2, 'bike_type': 3, 'start_time': 4, 'start_station_id': 5, 'start_station_name': 6, 'end_station_id': 7, 'end_station_name': 8, 'duration_minutes': 9})\n",
      "Row(('26742936', '3-Day Weekender', '18726', 'electric', datetime.datetime(2022, 5, 23, 16, 28, 33, tzinfo=datetime.timezone.utc), 4051, '10th/Red River', '4051', '10th/Red River', 35), {'trip_id': 0, 'subscriber_type': 1, 'bike_id': 2, 'bike_type': 3, 'start_time': 4, 'start_station_id': 5, 'start_station_name': 6, 'end_station_id': 7, 'end_station_name': 8, 'duration_minutes': 9})\n",
      "Row(('26648461', 'Student Membership', '22599', 'electric', datetime.datetime(2022, 5, 12, 9, 38, 57, tzinfo=datetime.timezone.utc), 4051, '10th/Red River', '4051', '10th/Red River', 2), {'trip_id': 0, 'subscriber_type': 1, 'bike_id': 2, 'bike_type': 3, 'start_time': 4, 'start_station_id': 5, 'start_station_name': 6, 'end_station_id': 7, 'end_station_name': 8, 'duration_minutes': 9})\n",
      "Row(('26599753', 'Pay-as-you-ride', '21691', 'electric', datetime.datetime(2022, 5, 6, 14, 18, 39, tzinfo=datetime.timezone.utc), 4051, '10th/Red River', '4051', '10th/Red River', 3), {'trip_id': 0, 'subscriber_type': 1, 'bike_id': 2, 'bike_type': 3, 'start_time': 4, 'start_station_id': 5, 'start_station_name': 6, 'end_station_id': 7, 'end_station_name': 8, 'duration_minutes': 9})\n",
      "Row(('26124027', 'Local31', '21419', 'electric', datetime.datetime(2022, 3, 6, 21, 51, 17, tzinfo=datetime.timezone.utc), 4051, '10th/Red River', '4051', '10th/Red River', 52), {'trip_id': 0, 'subscriber_type': 1, 'bike_id': 2, 'bike_type': 3, 'start_time': 4, 'start_station_id': 5, 'start_station_name': 6, 'end_station_id': 7, 'end_station_name': 8, 'duration_minutes': 9})\n"
     ]
    }
   ],
   "source": [
    "from google.cloud import bigquery\n",
    "\n",
    "# Initialize BigQuery client (automatically picks up credentials)\n",
    "client = bigquery.Client()\n",
    "\n",
    "# Define a public dataset query\n",
    "query = \"SELECT * FROM `bigquery-public-data.austin_bikeshare.bikeshare_trips` LIMIT 10\"\n",
    "\n",
    "# Run the query\n",
    "query_job = client.query(query)\n",
    "\n",
    "# Print results\n",
    "for row in query_job.result():\n",
    "    print(row)\n"
   ]
  },
  {
   "cell_type": "code",
   "execution_count": 4,
   "metadata": {},
   "outputs": [
    {
     "ename": "NotFound",
     "evalue": "404 Not found: Table ou-dsa5900:mmm_spring2025.adobe was not found in location us-central1; reason: notFound, message: Not found: Table ou-dsa5900:mmm_spring2025.adobe was not found in location us-central1\n\nLocation: us-central1\nJob ID: 0d7136af-5d64-4946-98e5-24a525eb71e8\n",
     "output_type": "error",
     "traceback": [
      "\u001b[0;31m---------------------------------------------------------------------------\u001b[0m",
      "\u001b[0;31mNotFound\u001b[0m                                  Traceback (most recent call last)",
      "Cell \u001b[0;32mIn[4], line 13\u001b[0m\n\u001b[1;32m     10\u001b[0m query_job \u001b[38;5;241m=\u001b[39m client\u001b[38;5;241m.\u001b[39mquery(query)\n\u001b[1;32m     12\u001b[0m \u001b[38;5;66;03m# Print results\u001b[39;00m\n\u001b[0;32m---> 13\u001b[0m \u001b[38;5;28;01mfor\u001b[39;00m row \u001b[38;5;129;01min\u001b[39;00m \u001b[43mquery_job\u001b[49m\u001b[38;5;241;43m.\u001b[39;49m\u001b[43mresult\u001b[49m\u001b[43m(\u001b[49m\u001b[43m)\u001b[49m:\n\u001b[1;32m     14\u001b[0m     \u001b[38;5;28mprint\u001b[39m(row)\n",
      "File \u001b[0;32m~/miniconda3/envs/mmm_project/lib/python3.12/site-packages/google/cloud/bigquery/job/query.py:1681\u001b[0m, in \u001b[0;36mQueryJob.result\u001b[0;34m(self, page_size, max_results, retry, timeout, start_index, job_retry)\u001b[0m\n\u001b[1;32m   1676\u001b[0m     remaining_timeout \u001b[38;5;241m=\u001b[39m \u001b[38;5;28;01mNone\u001b[39;00m\n\u001b[1;32m   1678\u001b[0m \u001b[38;5;28;01mif\u001b[39;00m remaining_timeout \u001b[38;5;129;01mis\u001b[39;00m \u001b[38;5;28;01mNone\u001b[39;00m:\n\u001b[1;32m   1679\u001b[0m     \u001b[38;5;66;03m# Since is_job_done() calls jobs.getQueryResults, which is a\u001b[39;00m\n\u001b[1;32m   1680\u001b[0m     \u001b[38;5;66;03m# long-running API, don't delay the next request at all.\u001b[39;00m\n\u001b[0;32m-> 1681\u001b[0m     \u001b[38;5;28;01mwhile\u001b[39;00m \u001b[38;5;129;01mnot\u001b[39;00m \u001b[43mis_job_done\u001b[49m\u001b[43m(\u001b[49m\u001b[43m)\u001b[49m:\n\u001b[1;32m   1682\u001b[0m         \u001b[38;5;28;01mpass\u001b[39;00m\n\u001b[1;32m   1683\u001b[0m \u001b[38;5;28;01melse\u001b[39;00m:\n\u001b[1;32m   1684\u001b[0m     \u001b[38;5;66;03m# Use a monotonic clock since we don't actually care about\u001b[39;00m\n\u001b[1;32m   1685\u001b[0m     \u001b[38;5;66;03m# daylight savings or similar, just the elapsed time.\u001b[39;00m\n",
      "File \u001b[0;32m~/miniconda3/envs/mmm_project/lib/python3.12/site-packages/google/api_core/retry/retry_unary.py:293\u001b[0m, in \u001b[0;36mRetry.__call__.<locals>.retry_wrapped_func\u001b[0;34m(*args, **kwargs)\u001b[0m\n\u001b[1;32m    289\u001b[0m target \u001b[38;5;241m=\u001b[39m functools\u001b[38;5;241m.\u001b[39mpartial(func, \u001b[38;5;241m*\u001b[39margs, \u001b[38;5;241m*\u001b[39m\u001b[38;5;241m*\u001b[39mkwargs)\n\u001b[1;32m    290\u001b[0m sleep_generator \u001b[38;5;241m=\u001b[39m exponential_sleep_generator(\n\u001b[1;32m    291\u001b[0m     \u001b[38;5;28mself\u001b[39m\u001b[38;5;241m.\u001b[39m_initial, \u001b[38;5;28mself\u001b[39m\u001b[38;5;241m.\u001b[39m_maximum, multiplier\u001b[38;5;241m=\u001b[39m\u001b[38;5;28mself\u001b[39m\u001b[38;5;241m.\u001b[39m_multiplier\n\u001b[1;32m    292\u001b[0m )\n\u001b[0;32m--> 293\u001b[0m \u001b[38;5;28;01mreturn\u001b[39;00m \u001b[43mretry_target\u001b[49m\u001b[43m(\u001b[49m\n\u001b[1;32m    294\u001b[0m \u001b[43m    \u001b[49m\u001b[43mtarget\u001b[49m\u001b[43m,\u001b[49m\n\u001b[1;32m    295\u001b[0m \u001b[43m    \u001b[49m\u001b[38;5;28;43mself\u001b[39;49m\u001b[38;5;241;43m.\u001b[39;49m\u001b[43m_predicate\u001b[49m\u001b[43m,\u001b[49m\n\u001b[1;32m    296\u001b[0m \u001b[43m    \u001b[49m\u001b[43msleep_generator\u001b[49m\u001b[43m,\u001b[49m\n\u001b[1;32m    297\u001b[0m \u001b[43m    \u001b[49m\u001b[43mtimeout\u001b[49m\u001b[38;5;241;43m=\u001b[39;49m\u001b[38;5;28;43mself\u001b[39;49m\u001b[38;5;241;43m.\u001b[39;49m\u001b[43m_timeout\u001b[49m\u001b[43m,\u001b[49m\n\u001b[1;32m    298\u001b[0m \u001b[43m    \u001b[49m\u001b[43mon_error\u001b[49m\u001b[38;5;241;43m=\u001b[39;49m\u001b[43mon_error\u001b[49m\u001b[43m,\u001b[49m\n\u001b[1;32m    299\u001b[0m \u001b[43m\u001b[49m\u001b[43m)\u001b[49m\n",
      "File \u001b[0;32m~/miniconda3/envs/mmm_project/lib/python3.12/site-packages/google/api_core/retry/retry_unary.py:153\u001b[0m, in \u001b[0;36mretry_target\u001b[0;34m(target, predicate, sleep_generator, timeout, on_error, exception_factory, **kwargs)\u001b[0m\n\u001b[1;32m    149\u001b[0m \u001b[38;5;66;03m# pylint: disable=broad-except\u001b[39;00m\n\u001b[1;32m    150\u001b[0m \u001b[38;5;66;03m# This function explicitly must deal with broad exceptions.\u001b[39;00m\n\u001b[1;32m    151\u001b[0m \u001b[38;5;28;01mexcept\u001b[39;00m \u001b[38;5;167;01mException\u001b[39;00m \u001b[38;5;28;01mas\u001b[39;00m exc:\n\u001b[1;32m    152\u001b[0m     \u001b[38;5;66;03m# defer to shared logic for handling errors\u001b[39;00m\n\u001b[0;32m--> 153\u001b[0m     \u001b[43m_retry_error_helper\u001b[49m\u001b[43m(\u001b[49m\n\u001b[1;32m    154\u001b[0m \u001b[43m        \u001b[49m\u001b[43mexc\u001b[49m\u001b[43m,\u001b[49m\n\u001b[1;32m    155\u001b[0m \u001b[43m        \u001b[49m\u001b[43mdeadline\u001b[49m\u001b[43m,\u001b[49m\n\u001b[1;32m    156\u001b[0m \u001b[43m        \u001b[49m\u001b[43msleep\u001b[49m\u001b[43m,\u001b[49m\n\u001b[1;32m    157\u001b[0m \u001b[43m        \u001b[49m\u001b[43merror_list\u001b[49m\u001b[43m,\u001b[49m\n\u001b[1;32m    158\u001b[0m \u001b[43m        \u001b[49m\u001b[43mpredicate\u001b[49m\u001b[43m,\u001b[49m\n\u001b[1;32m    159\u001b[0m \u001b[43m        \u001b[49m\u001b[43mon_error\u001b[49m\u001b[43m,\u001b[49m\n\u001b[1;32m    160\u001b[0m \u001b[43m        \u001b[49m\u001b[43mexception_factory\u001b[49m\u001b[43m,\u001b[49m\n\u001b[1;32m    161\u001b[0m \u001b[43m        \u001b[49m\u001b[43mtimeout\u001b[49m\u001b[43m,\u001b[49m\n\u001b[1;32m    162\u001b[0m \u001b[43m    \u001b[49m\u001b[43m)\u001b[49m\n\u001b[1;32m    163\u001b[0m     \u001b[38;5;66;03m# if exception not raised, sleep before next attempt\u001b[39;00m\n\u001b[1;32m    164\u001b[0m     time\u001b[38;5;241m.\u001b[39msleep(sleep)\n",
      "File \u001b[0;32m~/miniconda3/envs/mmm_project/lib/python3.12/site-packages/google/api_core/retry/retry_base.py:212\u001b[0m, in \u001b[0;36m_retry_error_helper\u001b[0;34m(exc, deadline, next_sleep, error_list, predicate_fn, on_error_fn, exc_factory_fn, original_timeout)\u001b[0m\n\u001b[1;32m    206\u001b[0m \u001b[38;5;28;01mif\u001b[39;00m \u001b[38;5;129;01mnot\u001b[39;00m predicate_fn(exc):\n\u001b[1;32m    207\u001b[0m     final_exc, source_exc \u001b[38;5;241m=\u001b[39m exc_factory_fn(\n\u001b[1;32m    208\u001b[0m         error_list,\n\u001b[1;32m    209\u001b[0m         RetryFailureReason\u001b[38;5;241m.\u001b[39mNON_RETRYABLE_ERROR,\n\u001b[1;32m    210\u001b[0m         original_timeout,\n\u001b[1;32m    211\u001b[0m     )\n\u001b[0;32m--> 212\u001b[0m     \u001b[38;5;28;01mraise\u001b[39;00m final_exc \u001b[38;5;28;01mfrom\u001b[39;00m\u001b[38;5;250m \u001b[39m\u001b[38;5;21;01msource_exc\u001b[39;00m\n\u001b[1;32m    213\u001b[0m \u001b[38;5;28;01mif\u001b[39;00m on_error_fn \u001b[38;5;129;01mis\u001b[39;00m \u001b[38;5;129;01mnot\u001b[39;00m \u001b[38;5;28;01mNone\u001b[39;00m:\n\u001b[1;32m    214\u001b[0m     on_error_fn(exc)\n",
      "File \u001b[0;32m~/miniconda3/envs/mmm_project/lib/python3.12/site-packages/google/api_core/retry/retry_unary.py:144\u001b[0m, in \u001b[0;36mretry_target\u001b[0;34m(target, predicate, sleep_generator, timeout, on_error, exception_factory, **kwargs)\u001b[0m\n\u001b[1;32m    142\u001b[0m \u001b[38;5;28;01mfor\u001b[39;00m sleep \u001b[38;5;129;01min\u001b[39;00m sleep_generator:\n\u001b[1;32m    143\u001b[0m     \u001b[38;5;28;01mtry\u001b[39;00m:\n\u001b[0;32m--> 144\u001b[0m         result \u001b[38;5;241m=\u001b[39m \u001b[43mtarget\u001b[49m\u001b[43m(\u001b[49m\u001b[43m)\u001b[49m\n\u001b[1;32m    145\u001b[0m         \u001b[38;5;28;01mif\u001b[39;00m inspect\u001b[38;5;241m.\u001b[39misawaitable(result):\n\u001b[1;32m    146\u001b[0m             warnings\u001b[38;5;241m.\u001b[39mwarn(_ASYNC_RETRY_WARNING)\n",
      "File \u001b[0;32m~/miniconda3/envs/mmm_project/lib/python3.12/site-packages/google/cloud/bigquery/job/query.py:1630\u001b[0m, in \u001b[0;36mQueryJob.result.<locals>.is_job_done\u001b[0;34m()\u001b[0m\n\u001b[1;32m   1607\u001b[0m \u001b[38;5;28;01mif\u001b[39;00m job_failed_exception \u001b[38;5;129;01mis\u001b[39;00m \u001b[38;5;129;01mnot\u001b[39;00m \u001b[38;5;28;01mNone\u001b[39;00m:\n\u001b[1;32m   1608\u001b[0m     \u001b[38;5;66;03m# Only try to restart the query job if the job failed for\u001b[39;00m\n\u001b[1;32m   1609\u001b[0m     \u001b[38;5;66;03m# a retriable reason. For example, don't restart the query\u001b[39;00m\n\u001b[0;32m   (...)\u001b[0m\n\u001b[1;32m   1627\u001b[0m     \u001b[38;5;66;03m# into an exception that can be processed by the\u001b[39;00m\n\u001b[1;32m   1628\u001b[0m     \u001b[38;5;66;03m# `job_retry` predicate.\u001b[39;00m\n\u001b[1;32m   1629\u001b[0m     restart_query_job \u001b[38;5;241m=\u001b[39m \u001b[38;5;28;01mTrue\u001b[39;00m\n\u001b[0;32m-> 1630\u001b[0m     \u001b[38;5;28;01mraise\u001b[39;00m job_failed_exception\n\u001b[1;32m   1631\u001b[0m \u001b[38;5;28;01melse\u001b[39;00m:\n\u001b[1;32m   1632\u001b[0m     \u001b[38;5;66;03m# Make sure that the _query_results are cached so we\u001b[39;00m\n\u001b[1;32m   1633\u001b[0m     \u001b[38;5;66;03m# can return a complete RowIterator.\u001b[39;00m\n\u001b[0;32m   (...)\u001b[0m\n\u001b[1;32m   1639\u001b[0m     \u001b[38;5;66;03m# making any extra API calls if the previous loop\u001b[39;00m\n\u001b[1;32m   1640\u001b[0m     \u001b[38;5;66;03m# iteration fetched the finished job.\u001b[39;00m\n\u001b[1;32m   1641\u001b[0m     \u001b[38;5;28mself\u001b[39m\u001b[38;5;241m.\u001b[39m_reload_query_results(\n\u001b[1;32m   1642\u001b[0m         retry\u001b[38;5;241m=\u001b[39mretry, \u001b[38;5;241m*\u001b[39m\u001b[38;5;241m*\u001b[39mreload_query_results_kwargs\n\u001b[1;32m   1643\u001b[0m     )\n",
      "\u001b[0;31mNotFound\u001b[0m: 404 Not found: Table ou-dsa5900:mmm_spring2025.adobe was not found in location us-central1; reason: notFound, message: Not found: Table ou-dsa5900:mmm_spring2025.adobe was not found in location us-central1\n\nLocation: us-central1\nJob ID: 0d7136af-5d64-4946-98e5-24a525eb71e8\n"
     ]
    }
   ],
   "source": [
    "from google.cloud import bigquery\n",
    "\n",
    "# Initialize BigQuery client (automatically picks up credentials)\n",
    "client = bigquery.Client()\n",
    "\n",
    "# Define a public dataset query\n",
    "query = \"SELECT * FROM `ou-dsa5900.mmm_spring2025.adobe` LIMIT 10\"\n",
    "\n",
    "# Run the query\n",
    "query_job = client.query(query)\n",
    "\n",
    "# Print results\n",
    "for row in query_job.result():\n",
    "    print(row)\n"
   ]
  }
 ],
 "metadata": {
  "kernelspec": {
   "display_name": "mmm_project",
   "language": "python",
   "name": "python3"
  },
  "language_info": {
   "codemirror_mode": {
    "name": "ipython",
    "version": 3
   },
   "file_extension": ".py",
   "mimetype": "text/x-python",
   "name": "python",
   "nbconvert_exporter": "python",
   "pygments_lexer": "ipython3",
   "version": "3.12.8"
  }
 },
 "nbformat": 4,
 "nbformat_minor": 2
}
