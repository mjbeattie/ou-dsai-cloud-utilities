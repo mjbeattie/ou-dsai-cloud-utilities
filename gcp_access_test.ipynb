{
 "cells": [
  {
   "cell_type": "code",
   "execution_count": 8,
   "metadata": {},
   "outputs": [
    {
     "name": "stdout",
     "output_type": "stream",
     "text": [
      "Contents of gs://mmm-spring2025 (Project: ou-dsa5900):\n",
      "  agent-test/\n",
      "    - DSA5900 Practicum Syllabus.pdf (Size: 192221 bytes)\n",
      "  bronze/\n",
      "    - adobe_reformat_raw_update_utf8.csv (Size: 51030 bytes)\n",
      "    - google_reformat_raw_update_utf8.csv (Size: 3551073 bytes)\n",
      "    - meta_reformat_raw_update_utf8.csv (Size: 1815599 bytes)\n",
      "  raw-files/\n",
      "    - Adobe Ecom Data 100122 - 093023.xlsx (Size: 193540 bytes)\n",
      "    - Adobe Ecom Data 100123 - 093024.xlsx (Size: 204830 bytes)\n",
      "    - Google Data 100122 - 110324.xlsx (Size: 1769255 bytes)\n",
      "    - Google Data 100123 - 093024.xlsx (Size: 3456257 bytes)\n",
      "    - Meta Data 100123 - 093024.xlsx (Size: 685841 bytes)\n",
      "    - Meta Data 100522 - 110324.xlsx (Size: 1266301 bytes)\n"
     ]
    }
   ],
   "source": [
    "from google.cloud import storage\n",
    "\n",
    "def list_blobs_and_dirs(project_id, bucket_name, prefix=None):\n",
    "    \"\"\"Lists blobs and simulates directories in a Google Cloud Storage bucket within a specific project.\"\"\"\n",
    "\n",
    "    storage_client = storage.Client(project=project_id)  # Specify the project\n",
    "    bucket = storage_client.bucket(bucket_name)\n",
    "\n",
    "    try:\n",
    "        blobs = bucket.list_blobs(prefix=prefix)\n",
    "\n",
    "        if prefix:\n",
    "            print(f\"Contents of gs://{bucket_name}/{prefix} (Project: {project_id}):\")\n",
    "        else:\n",
    "            print(f\"Contents of gs://{bucket_name} (Project: {project_id}):\")\n",
    "\n",
    "        printed_dirs = set()\n",
    "\n",
    "        for blob in blobs:\n",
    "            parts = blob.name.split(\"/\")\n",
    "\n",
    "            if len(parts) > 1:\n",
    "                dir_name = \"/\".join(parts[:-1]) + \"/\"\n",
    "\n",
    "                if dir_name not in printed_dirs:\n",
    "                    print(f\"  {dir_name}\")\n",
    "                    printed_dirs.add(dir_name)\n",
    "\n",
    "                if not blob.name.endswith(\"/\"):\n",
    "                    print(f\"    - {parts[-1]} (Size: {blob.size} bytes)\")\n",
    "            else:\n",
    "                if not blob.name.endswith(\"/\"):\n",
    "                    print(f\"- {blob.name} (Size: {blob.size} bytes)\")\n",
    "\n",
    "    except Exception as e:\n",
    "        print(f\"An error occurred: {e}\")\n",
    "\n",
    "\n",
    "# Example usage: Replace with your project ID and bucket name\n",
    "project_id = \"ou-dsa5900\"  # Add your project ID here\n",
    "bucket_name = \"mmm-spring2025\"\n",
    "\n",
    "# List everything\n",
    "list_blobs_and_dirs(project_id, bucket_name)\n",
    "\n",
    "# List a specific \"directory\" (prefix)\n",
    "# list_blobs_and_dirs(project_id, bucket_name, \"my-folder/\")  # Replace with your prefix"
   ]
  },
  {
   "cell_type": "markdown",
   "metadata": {},
   "source": [
    "__BigQuery Access with User ID__\n",
    "This next block tries to access public BigQuery datasets with the Google user ID as credentials instead of the service account.\n",
    "\n",
    "Start by logging in as the Google user from a Terminal session using:\n",
    "\n",
    "gcloud auth application-default login\n",
    "gcloud config set project <PROJECT-ID>\n",
    "\n",
    "Replace <PROJECT-ID> with the name of your project, such as ou-dsa5900.  This will log the user of the workstation in using their Google user ID.  It will then store authentication credentials locally (e.g., in ~/.config/gcloud/application_default_credentials.json).\n"
   ]
  },
  {
   "cell_type": "code",
   "execution_count": 2,
   "metadata": {},
   "outputs": [
    {
     "name": "stdout",
     "output_type": "stream",
     "text": [
      "Row(('19309516', 'Single Trip', '647', 'classic', datetime.datetime(2019, 2, 24, 9, 32, 17, tzinfo=datetime.timezone.utc), 4051, '10th & Red River', '4051', '10th & Red River', 12), {'trip_id': 0, 'subscriber_type': 1, 'bike_id': 2, 'bike_type': 3, 'start_time': 4, 'start_station_id': 5, 'start_station_name': 6, 'end_station_id': 7, 'end_station_name': 8, 'duration_minutes': 9})\n",
      "Row(('19309511', 'Single Trip', '12802', 'classic', datetime.datetime(2019, 2, 24, 9, 31, 3, tzinfo=datetime.timezone.utc), 4051, '10th & Red River', '4051', '10th & Red River', 8), {'trip_id': 0, 'subscriber_type': 1, 'bike_id': 2, 'bike_type': 3, 'start_time': 4, 'start_station_id': 5, 'start_station_name': 6, 'end_station_id': 7, 'end_station_name': 8, 'duration_minutes': 9})\n",
      "Row(('19309522', 'Single Trip', '046G', 'classic', datetime.datetime(2019, 2, 24, 9, 34, 16, tzinfo=datetime.timezone.utc), 4051, '10th & Red River', '4051', '10th & Red River', 11), {'trip_id': 0, 'subscriber_type': 1, 'bike_id': 2, 'bike_type': 3, 'start_time': 4, 'start_station_id': 5, 'start_station_name': 6, 'end_station_id': 7, 'end_station_name': 8, 'duration_minutes': 9})\n",
      "Row(('19346245', 'Local30', '263G', 'classic', datetime.datetime(2019, 3, 8, 7, 37, 3, tzinfo=datetime.timezone.utc), 4051, '10th & Red River', '4051', '10th & Red River', 50), {'trip_id': 0, 'subscriber_type': 1, 'bike_id': 2, 'bike_type': 3, 'start_time': 4, 'start_station_id': 5, 'start_station_name': 6, 'end_station_id': 7, 'end_station_name': 8, 'duration_minutes': 9})\n",
      "Row(('19468664', '24 Hour Walk Up Pass', '2143', 'classic', datetime.datetime(2019, 3, 31, 12, 16, 21, tzinfo=datetime.timezone.utc), 4051, '10th & Red River', '4051', '10th & Red River', 267), {'trip_id': 0, 'subscriber_type': 1, 'bike_id': 2, 'bike_type': 3, 'start_time': 4, 'start_station_id': 5, 'start_station_name': 6, 'end_station_id': 7, 'end_station_name': 8, 'duration_minutes': 9})\n",
      "Row(('19468668', '24 Hour Walk Up Pass', '1782', 'classic', datetime.datetime(2019, 3, 31, 12, 16, 58, tzinfo=datetime.timezone.utc), 4051, '10th & Red River', '4051', '10th & Red River', 268), {'trip_id': 0, 'subscriber_type': 1, 'bike_id': 2, 'bike_type': 3, 'start_time': 4, 'start_station_id': 5, 'start_station_name': 6, 'end_station_id': 7, 'end_station_name': 8, 'duration_minutes': 9})\n",
      "Row(('19468669', '24 Hour Walk Up Pass', '174', 'classic', datetime.datetime(2019, 3, 31, 12, 17, 26, tzinfo=datetime.timezone.utc), 4051, '10th & Red River', '4051', '10th & Red River', 267), {'trip_id': 0, 'subscriber_type': 1, 'bike_id': 2, 'bike_type': 3, 'start_time': 4, 'start_station_id': 5, 'start_station_name': 6, 'end_station_id': 7, 'end_station_name': 8, 'duration_minutes': 9})\n",
      "Row(('19390778', 'Single Trip Ride', '874', 'classic', datetime.datetime(2019, 3, 17, 10, 49, 45, tzinfo=datetime.timezone.utc), 4051, '10th & Red River', '4051', '10th & Red River', 37), {'trip_id': 0, 'subscriber_type': 1, 'bike_id': 2, 'bike_type': 3, 'start_time': 4, 'start_station_id': 5, 'start_station_name': 6, 'end_station_id': 7, 'end_station_name': 8, 'duration_minutes': 9})\n",
      "Row(('19378857', 'U.T. Student Membership', '864', 'classic', datetime.datetime(2019, 3, 14, 19, 7, 54, tzinfo=datetime.timezone.utc), 4051, '10th & Red River', '4051', '10th & Red River', 25), {'trip_id': 0, 'subscriber_type': 1, 'bike_id': 2, 'bike_type': 3, 'start_time': 4, 'start_station_id': 5, 'start_station_name': 6, 'end_station_id': 7, 'end_station_name': 8, 'duration_minutes': 9})\n",
      "Row(('19390779', 'Single Trip Ride', '2286', 'classic', datetime.datetime(2019, 3, 17, 10, 49, 46, tzinfo=datetime.timezone.utc), 4051, '10th & Red River', '4051', '10th & Red River', 37), {'trip_id': 0, 'subscriber_type': 1, 'bike_id': 2, 'bike_type': 3, 'start_time': 4, 'start_station_id': 5, 'start_station_name': 6, 'end_station_id': 7, 'end_station_name': 8, 'duration_minutes': 9})\n"
     ]
    }
   ],
   "source": [
    "from google.cloud import bigquery\n",
    "\n",
    "# Initialize BigQuery client (automatically picks up credentials)\n",
    "client = bigquery.Client()\n",
    "\n",
    "# Define a public dataset query\n",
    "query = \"SELECT * FROM `bigquery-public-data.austin_bikeshare.bikeshare_trips` LIMIT 10\"\n",
    "\n",
    "# Run the query\n",
    "query_job = client.query(query)\n",
    "\n",
    "# Print results\n",
    "for row in query_job.result():\n",
    "    print(row)\n"
   ]
  },
  {
   "cell_type": "code",
   "execution_count": 4,
   "metadata": {},
   "outputs": [
    {
     "name": "stdout",
     "output_type": "stream",
     "text": [
      "Row((datetime.date(2022, 12, 30), 3607, 85, 12628.97, 4585, 105, 28812.78, 7868, 204, 23481.0, 7310, 128, 18168.6, 2749, 48, 7869.88, 24807, 390, 63216.56, 'adobe'), {'visitdate': 0, 'sportswear_visits': 1, 'sportswear_orders': 2, 'sportswear_revenue': 3, 'baseball_visits': 4, 'baseball_orders': 5, 'baseball_revenue': 6, 'inflates_visits': 7, 'inflates_orders': 8, 'inflates_revenue': 9, 'racquet_visits': 10, 'racquet_orders': 11, 'racquet_revenue': 12, 'golf_visits': 13, 'golf_orders': 14, 'golf_revenue': 15, 'unspecified_visits': 16, 'unspecified_orders': 17, 'unspecified_revenue': 18, 'channel': 19})\n",
      "Row((datetime.date(2022, 10, 14), 5512, 100, 17983.24, 6076, 108, 31862.43, 7010, 185, 34031.78, 6972, 156, 33433.52, 4014, 54, 10266.46, 30944, 409, 88769.96, 'adobe'), {'visitdate': 0, 'sportswear_visits': 1, 'sportswear_orders': 2, 'sportswear_revenue': 3, 'baseball_visits': 4, 'baseball_orders': 5, 'baseball_revenue': 6, 'inflates_visits': 7, 'inflates_orders': 8, 'inflates_revenue': 9, 'racquet_visits': 10, 'racquet_orders': 11, 'racquet_revenue': 12, 'golf_visits': 13, 'golf_orders': 14, 'golf_revenue': 15, 'unspecified_visits': 16, 'unspecified_orders': 17, 'unspecified_revenue': 18, 'channel': 19})\n",
      "Row((datetime.date(2022, 10, 8), 5347, 112, 18510.92, 5762, 114, 26803.22, 6519, 183, 22777.87, 6717, 159, 29209.42, 3501, 56, 7465.2, 25391, 390, 68758.24, 'adobe'), {'visitdate': 0, 'sportswear_visits': 1, 'sportswear_orders': 2, 'sportswear_revenue': 3, 'baseball_visits': 4, 'baseball_orders': 5, 'baseball_revenue': 6, 'inflates_visits': 7, 'inflates_orders': 8, 'inflates_revenue': 9, 'racquet_visits': 10, 'racquet_orders': 11, 'racquet_revenue': 12, 'golf_visits': 13, 'golf_orders': 14, 'golf_revenue': 15, 'unspecified_visits': 16, 'unspecified_orders': 17, 'unspecified_revenue': 18, 'channel': 19})\n",
      "Row((datetime.date(2023, 1, 3), 3820, 90, 14146.81, 4867, 83, 28079.89, 6566, 206, 33397.4, 6034, 165, 38251.85, 3153, 57, 20339.34, 24626, 396, 73233.5, 'adobe'), {'visitdate': 0, 'sportswear_visits': 1, 'sportswear_orders': 2, 'sportswear_revenue': 3, 'baseball_visits': 4, 'baseball_orders': 5, 'baseball_revenue': 6, 'inflates_visits': 7, 'inflates_orders': 8, 'inflates_revenue': 9, 'racquet_visits': 10, 'racquet_orders': 11, 'racquet_revenue': 12, 'golf_visits': 13, 'golf_orders': 14, 'golf_revenue': 15, 'unspecified_visits': 16, 'unspecified_orders': 17, 'unspecified_revenue': 18, 'channel': 19})\n",
      "Row((datetime.date(2023, 1, 28), 4286, 110, 16368.8, 6633, 113, 28777.17, 8850, 196, 25978.7, 7321, 134, 20163.65, 4168, 58, 9664.54, 30315, 402, 68322.2, 'adobe'), {'visitdate': 0, 'sportswear_visits': 1, 'sportswear_orders': 2, 'sportswear_revenue': 3, 'baseball_visits': 4, 'baseball_orders': 5, 'baseball_revenue': 6, 'inflates_visits': 7, 'inflates_orders': 8, 'inflates_revenue': 9, 'racquet_visits': 10, 'racquet_orders': 11, 'racquet_revenue': 12, 'golf_visits': 13, 'golf_orders': 14, 'golf_revenue': 15, 'unspecified_visits': 16, 'unspecified_orders': 17, 'unspecified_revenue': 18, 'channel': 19})\n",
      "Row((datetime.date(2022, 12, 31), 3211, 82, 11031.6, 3693, 86, 24076.0, 7198, 193, 23120.91, 6756, 116, 19760.86, 2498, 59, 9527.86, 21902, 352, 59105.52, 'adobe'), {'visitdate': 0, 'sportswear_visits': 1, 'sportswear_orders': 2, 'sportswear_revenue': 3, 'baseball_visits': 4, 'baseball_orders': 5, 'baseball_revenue': 6, 'inflates_visits': 7, 'inflates_orders': 8, 'inflates_revenue': 9, 'racquet_visits': 10, 'racquet_orders': 11, 'racquet_revenue': 12, 'golf_visits': 13, 'golf_orders': 14, 'golf_revenue': 15, 'unspecified_visits': 16, 'unspecified_orders': 17, 'unspecified_revenue': 18, 'channel': 19})\n",
      "Row((datetime.date(2023, 1, 17), 4668, 118, 19010.68, 5901, 136, 33948.88, 9331, 243, 35636.89, 7483, 190, 37980.92, 7920, 59, 9310.94, 32672, 496, 92098.35, 'adobe'), {'visitdate': 0, 'sportswear_visits': 1, 'sportswear_orders': 2, 'sportswear_revenue': 3, 'baseball_visits': 4, 'baseball_orders': 5, 'baseball_revenue': 6, 'inflates_visits': 7, 'inflates_orders': 8, 'inflates_revenue': 9, 'racquet_visits': 10, 'racquet_orders': 11, 'racquet_revenue': 12, 'golf_visits': 13, 'golf_orders': 14, 'golf_revenue': 15, 'unspecified_visits': 16, 'unspecified_orders': 17, 'unspecified_revenue': 18, 'channel': 19})\n",
      "Row((datetime.date(2022, 10, 4), 5750, 108, 18598.27, 6152, 124, 33603.24, 6872, 197, 43777.92, 9105, 209, 34702.89, 6392, 60, 11226.13, 31334, 489, 107147.17, 'adobe'), {'visitdate': 0, 'sportswear_visits': 1, 'sportswear_orders': 2, 'sportswear_revenue': 3, 'baseball_visits': 4, 'baseball_orders': 5, 'baseball_revenue': 6, 'inflates_visits': 7, 'inflates_orders': 8, 'inflates_revenue': 9, 'racquet_visits': 10, 'racquet_orders': 11, 'racquet_revenue': 12, 'golf_visits': 13, 'golf_orders': 14, 'golf_revenue': 15, 'unspecified_visits': 16, 'unspecified_orders': 17, 'unspecified_revenue': 18, 'channel': 19})\n",
      "Row((datetime.date(2022, 12, 24), 2975, 73, 11969.24, 3658, 82, 25280.3, 9140, 217, 22826.43, 4632, 98, 17364.41, 3033, 60, 9707.4, 21284, 359, 55369.11, 'adobe'), {'visitdate': 0, 'sportswear_visits': 1, 'sportswear_orders': 2, 'sportswear_revenue': 3, 'baseball_visits': 4, 'baseball_orders': 5, 'baseball_revenue': 6, 'inflates_visits': 7, 'inflates_orders': 8, 'inflates_revenue': 9, 'racquet_visits': 10, 'racquet_orders': 11, 'racquet_revenue': 12, 'golf_visits': 13, 'golf_orders': 14, 'golf_revenue': 15, 'unspecified_visits': 16, 'unspecified_orders': 17, 'unspecified_revenue': 18, 'channel': 19})\n",
      "Row((datetime.date(2022, 12, 28), 3391, 80, 11601.36, 8231, 108, 25679.06, 9256, 248, 30025.49, 5339, 135, 28329.92, 3508, 61, 9336.7, 26785, 438, 76539.98, 'adobe'), {'visitdate': 0, 'sportswear_visits': 1, 'sportswear_orders': 2, 'sportswear_revenue': 3, 'baseball_visits': 4, 'baseball_orders': 5, 'baseball_revenue': 6, 'inflates_visits': 7, 'inflates_orders': 8, 'inflates_revenue': 9, 'racquet_visits': 10, 'racquet_orders': 11, 'racquet_revenue': 12, 'golf_visits': 13, 'golf_orders': 14, 'golf_revenue': 15, 'unspecified_visits': 16, 'unspecified_orders': 17, 'unspecified_revenue': 18, 'channel': 19})\n"
     ]
    }
   ],
   "source": [
    "from google.cloud import bigquery\n",
    "\n",
    "# Initialize BigQuery client (automatically picks up credentials)\n",
    "client = bigquery.Client()\n",
    "\n",
    "# Define a public dataset query\n",
    "query = \"SELECT * FROM `ou-dsa5900.mmm_spring2025.adobe` LIMIT 10\"\n",
    "\n",
    "# Run the query\n",
    "query_job = client.query(query)\n",
    "\n",
    "# Print results\n",
    "for row in query_job.result():\n",
    "    print(row)\n"
   ]
  }
 ],
 "metadata": {
  "kernelspec": {
   "display_name": "mmm_project",
   "language": "python",
   "name": "python3"
  },
  "language_info": {
   "codemirror_mode": {
    "name": "ipython",
    "version": 3
   },
   "file_extension": ".py",
   "mimetype": "text/x-python",
   "name": "python",
   "nbconvert_exporter": "python",
   "pygments_lexer": "ipython3",
   "version": "3.12.8"
  }
 },
 "nbformat": 4,
 "nbformat_minor": 2
}
